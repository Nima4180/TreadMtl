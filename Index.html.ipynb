{
 "cells": [
  {
   "cell_type": "code",
   "execution_count": null,
   "id": "848fcc29",
   "metadata": {},
   "outputs": [],
   "source": [
    "<!DOCTYPE html>\n",
    "<html lang=\"en\">\n",
    "<head>\n",
    "    <meta charset=\"UTF-8\">\n",
    "    <meta name=\"viewport\" content=\"width=device-width, initial-scale=1.0\">\n",
    "    <title>TreadMtl - Tire Shop</title>\n",
    "    <link rel=\"stylesheet\" href=\"style.css\">\n",
    "</head>\n",
    "<body>\n",
    "    <!-- Header -->\n",
    "    <header>\n",
    "        <div class=\"container\">\n",
    "            <img src=\"images/toyo-tires.png\" alt=\"TreadMtl Logo\" class=\"logo\">\n",
    "            <h1>TreadMtl</h1>\n",
    "            <p>Your one-stop tire shop in Laval</p>\n",
    "        </div>\n",
    "    </header>\n",
    "\n",
    "    <!-- Promotion Section -->\n",
    "    <section class=\"promo\">\n",
    "        <h2>Special Promotion</h2>\n",
    "        <p>12% discount for purchases over $500 (before tax) on 4 tires!</p>\n",
    "    </section>\n",
    "\n",
    "    <!-- Search Section -->\n",
    "    <section class=\"search\">\n",
    "        <h2>Find the Right Tires</h2>\n",
    "        <form id=\"search-form\">\n",
    "            <input type=\"text\" id=\"search-input\" placeholder=\"Search by car or size (e.g., 205/55R16)\">\n",
    "            <button type=\"submit\">Search</button>\n",
    "        </form>\n",
    "    </section>\n",
    "\n",
    "    <!-- Tire Results Section -->\n",
    "    <section class=\"tire-products\">\n",
    "        <h2>Tire Results</h2>\n",
    "        <div id=\"tire-results\" class=\"tire-container\"></div>\n",
    "    </section>\n",
    "\n",
    "    <!-- Footer -->\n",
    "    <footer>\n",
    "        <p>&copy; 2025 TreadMtl. All rights reserved.</p>\n",
    "    </footer>\n",
    "\n",
    "    <script src=\"script.js\"></script>\n",
    "</body>\n",
    "</html>\n"
   ]
  }
 ],
 "metadata": {
  "kernelspec": {
   "display_name": "Python 3 (ipykernel)",
   "language": "python",
   "name": "python3"
  },
  "language_info": {
   "codemirror_mode": {
    "name": "ipython",
    "version": 3
   },
   "file_extension": ".py",
   "mimetype": "text/x-python",
   "name": "python",
   "nbconvert_exporter": "python",
   "pygments_lexer": "ipython3",
   "version": "3.11.5"
  }
 },
 "nbformat": 4,
 "nbformat_minor": 5
}
