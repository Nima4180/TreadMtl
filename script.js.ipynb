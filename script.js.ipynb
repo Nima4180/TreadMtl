{
 "cells": [
  {
   "cell_type": "code",
   "execution_count": null,
   "id": "a650e5b5",
   "metadata": {},
   "outputs": [],
   "source": [
    "const tireData = [\n",
    "    {\n",
    "        car: \"Universal Fitment\",\n",
    "        size: \"205/55R16\",\n",
    "        tires: [\n",
    "            {\n",
    "                name: \"Toyo Tires Gsi-6 LS\",\n",
    "                price: \"$120\",\n",
    "                image: \"images/tire1.jpg\", // Path to your tire image\n",
    "            },\n",
    "        ],\n",
    "    },\n",
    "];\n",
    "\n",
    "document.getElementById(\"search-form\").addEventListener(\"submit\", (event) => {\n",
    "    event.preventDefault();\n",
    "\n",
    "    const query = document.getElementById(\"search-input\").value.toLowerCase();\n",
    "    const results = [];\n",
    "\n",
    "    tireData.forEach((data) => {\n",
    "        if (\n",
    "            data.car.toLowerCase().includes(query) ||\n",
    "            data.size.toLowerCase().includes(query)\n",
    "        ) {\n",
    "            results.push(...data.tires);\n",
    "        }\n",
    "    });\n",
    "\n",
    "    displayTires(results);\n",
    "});\n",
    "\n",
    "function displayTires(tires) {\n",
    "    const tireContainer = document.getElementById(\"tire-results\");\n",
    "    tireContainer.innerHTML = \"\"; // Clear previous results\n",
    "\n",
    "    if (tires.length === 0) {\n",
    "        tireContainer.innerHTML = \"<p>No results found.</p>\";\n",
    "        return;\n",
    "    }\n",
    "\n",
    "    tires.forEach((tire) => {\n",
    "        const tireItem = document.createElement(\"div\");\n",
    "        tireItem.className = \"tire-item\";\n",
    "\n",
    "        tireItem.innerHTML = `\n",
    "            <img src=\"${tire.image}\" alt=\"${tire.name}\">\n",
    "            <h3>${tire.name}</h3>\n",
    "            <p>Size: ${tire.size}</p>\n",
    "            <p>Price: ${tire.price}</p>\n",
    "        `;\n",
    "\n",
    "        tireContainer.appendChild(tireItem);\n",
    "    });\n",
    "}\n"
   ]
  }
 ],
 "metadata": {
  "kernelspec": {
   "display_name": "Python 3 (ipykernel)",
   "language": "python",
   "name": "python3"
  },
  "language_info": {
   "codemirror_mode": {
    "name": "ipython",
    "version": 3
   },
   "file_extension": ".py",
   "mimetype": "text/x-python",
   "name": "python",
   "nbconvert_exporter": "python",
   "pygments_lexer": "ipython3",
   "version": "3.11.5"
  }
 },
 "nbformat": 4,
 "nbformat_minor": 5
}
